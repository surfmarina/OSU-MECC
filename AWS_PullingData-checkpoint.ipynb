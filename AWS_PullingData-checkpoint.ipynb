{
 "cells": [
  {
   "cell_type": "markdown",
   "id": "43b0d66a",
   "metadata": {},
   "source": [
    "## Pulling MHKiT/REX data \n",
    "\n",
    "Note: AK needs to use rex library to pull data, HI does not have mean zero-crossing period in dataset. \n",
    "\n",
    "Locations:\n",
    "- PacWave: (43.489171,-125.152137)\n",
    "- WETS: (21.470797, -157.791942)\n",
    "- Molokai, HI: (21.277880, -157.003777)\n",
    "- Nome, AK: not included in hindcast assessment (out of boundary box)\n",
    "- St. Paul, AK: (56.282410, -171.170919)\n",
    "- Yakutat, AK: (59.579039, -139.874278)\n",
    "- Puerto Rico: (18.771439, -66.338195) -> no hindcast data (out of boundary box)\n",
    "- Miami: (25.708704, -79.822971)"
   ]
  },
  {
   "cell_type": "code",
   "execution_count": 1,
   "id": "faa7150b",
   "metadata": {},
   "outputs": [
    {
     "name": "stdout",
     "output_type": "stream",
     "text": [
      "Parent Directory: C:\\Users\\mankleh\\Box\\Marine Energy Resources\n",
      "\n",
      "Wave Directory:  C:\\Users\\mankleh\\Box\\Marine Energy Resources\\PacWave\\Wave\\virtual_buoy\n"
     ]
    }
   ],
   "source": [
    "# Importing necessary python packages\n",
    "\n",
    "from mhkit import wave\n",
    "import rex\n",
    "import matplotlib.pyplot as plt\n",
    "from scipy import stats\n",
    "import pandas as pd\n",
    "import numpy as np\n",
    "import os\n",
    "import h5py\n",
    "from rex import WaveX\n",
    "\n",
    "# establishing path to data\n",
    "path = os.getcwd() #current working directory\n",
    "parent = os.path.abspath(os.path.join(path, os.pardir)) #creating full path to parent directory\n",
    "wave_folder = os.path.join(parent,'PacWave\\Wave\\\\virtual_buoy') #path to dataset location\n",
    "hsds_path = os.path.join(parent,'PacWave\\Wave\\\\virtual_buoy\\West_Coast_virtual_buoy_*.h5')#only for PacWave\n",
    "\n",
    "print(\"Parent Directory:\", os.path.abspath(parent))\n",
    "print(\"\\nWave Directory: \",wave_folder)"
   ]
  },
  {
   "cell_type": "code",
   "execution_count": 2,
   "id": "44184775",
   "metadata": {},
   "outputs": [],
   "source": [
    "## pull Hindcast data\n",
    "\n",
    "data_type = '3-hour' # setting the data type to the 3-hour dataset\n",
    "loc = 'PWS'\n",
    "\n",
    "start_year = 1990\n",
    "end_year = 2000\n",
    "all_years = list(range(start_year,end_year+1))\n",
    "years = [str(x) for x in all_years]\n",
    "\n",
    "# data structure seems to only support 10 years of data based on the file size\n",
    "lat_lon = (21.277880, -157.003777)\n",
    "parameter = ['significant_wave_height','peak_period','energy_period', 'mean_zero-crossing_period','omni-directional_wave_power',\n",
    "             'mean_wave_direction','spectral_width','directionality_coefficient']\n",
    "#, 'mean_zero-crossing_period'\n"
   ]
  },
  {
   "cell_type": "code",
   "execution_count": null,
   "id": "9938b885",
   "metadata": {},
   "outputs": [],
   "source": [
    "#Pulling data with Rex\n",
    "for yr in years:\n",
    "\n",
    "    year = [yr]   \n",
    "\n",
    "    wave_file = '/nrel/US_wave/Atlantic/Atlantic_wave_'+yr+'.h5'\n",
    "    with WaveX(wave_file, hsds=True) as f:\n",
    "        resource_swh = f.get_lat_lon_df('significant_wave_height',lat_lon)\n",
    "        resource_pp = f.get_lat_lon_df('peak_period',lat_lon)\n",
    "        resource_ep = f.get_lat_lon_df('energy_period',lat_lon)\n",
    "        resource_odwp = f.get_lat_lon_df('omni-directional_wave_power',lat_lon)\n",
    "        resource_mwd = f.get_lat_lon_df('mean_wave_direction',lat_lon)\n",
    "        resource_sw = f.get_lat_lon_df('spectral_width',lat_lon)\n",
    "        resource_d = f.get_lat_lon_df('directionality_coefficient',lat_lon)\n",
    "\n",
    "    column_name = resource_swh.columns  \n",
    "    resource_swh = resource_swh.rename({column_name[0]:'significant_wave_height'},axis='columns',index=None)\n",
    "    resource_pp = resource_pp.rename({column_name[0]:'peak_period'},axis='columns',index=None)\n",
    "    resource_ep = resource_ep.rename({column_name[0]:'energy period'},axis='columns',index=None)\n",
    "    resource_odwp = resource_odwp.rename({column_name[0]:'omni-directional_wavepower'},axis='columns',index=None)\n",
    "    resource_mwd = resource_mwd.rename({column_name[0]:'mean wave direction'},axis='columns',index=None)  \n",
    "    resource_sw = resource_sw.rename({column_name[0]:'spectral_width'},axis='columns',index=None)\n",
    "    resource_d = resource_d.rename({column_name[0]:'directionality_coefficient'},axis='columns',index=None)\n",
    "    \n",
    "    data = pd.concat([resource_swh, resource_pp,resource_ep,resource_odwp,resource_mwd,resource_sw,resource_d], axis=1)\n",
    "    \n",
    "    filename = os.path.abspath(os.path.join(wave_folder,loc+'_virtual_buoy_test'+yr+'.csv'))\n",
    "    #print(filename)\n",
    "    data.to_csv(filename,index=True)\n",
    "    print(yr)\n",
    "print('Finished')"
   ]
  },
  {
   "cell_type": "code",
   "execution_count": null,
   "id": "441c87b6",
   "metadata": {},
   "outputs": [],
   "source": [
    "# Testing lat_lon's in WaveX \n",
    "wave_file = '/nrel/US_wave/Atlantic/Atlantic_wave_'+yr+'.h5'\n",
    "test = WaveX(wave_file, hsds=True).get_lat_lon_df('mean_zero-crossing_period',(25.708704, -79.822971))\n",
    "test"
   ]
  },
  {
   "cell_type": "code",
   "execution_count": null,
   "id": "b6ea75b7",
   "metadata": {},
   "outputs": [],
   "source": [
    "# for small data requests, request_wpto_data() can pull directly from AWS if hsds = True.\n",
    "# When hsds = False request_wpto_data() requires a path arguement to the location of the dataset.\n",
    "for yr in years:\n",
    "\n",
    "    year = [yr]   \n",
    "    #print(hsds_path)\n",
    "    data, metadata = wave.io.hindcast.request_wpto_point_data(data_type,parameter,lat_lon,year,hsds=True) #, path=hsds_path)\n",
    "    filename = os.path.abspath(os.path.join(wave_folder,loc+'_virtual_buoy_test'+yr+'.csv'))\n",
    "    metadata\n",
    "    data.to_csv(filename,index=True)\n",
    "    print(yr)\n",
    "print('Finished')"
   ]
  },
  {
   "cell_type": "code",
   "execution_count": 1,
   "id": "c7123d47",
   "metadata": {},
   "outputs": [
    {
     "ename": "NameError",
     "evalue": "name 'os' is not defined",
     "output_type": "error",
     "traceback": [
      "\u001b[1;31m---------------------------------------------------------------------------\u001b[0m",
      "\u001b[1;31mNameError\u001b[0m                                 Traceback (most recent call last)",
      "\u001b[1;32m~\\AppData\\Local\\Temp/ipykernel_18676/5624845.py\u001b[0m in \u001b[0;36m<module>\u001b[1;34m\u001b[0m\n\u001b[1;32m----> 1\u001b[1;33m \u001b[0mfilename\u001b[0m \u001b[1;33m=\u001b[0m \u001b[0mos\u001b[0m\u001b[1;33m.\u001b[0m\u001b[0mpath\u001b[0m\u001b[1;33m.\u001b[0m\u001b[0mabspath\u001b[0m\u001b[1;33m(\u001b[0m\u001b[0mos\u001b[0m\u001b[1;33m.\u001b[0m\u001b[0mpath\u001b[0m\u001b[1;33m.\u001b[0m\u001b[0mjoin\u001b[0m\u001b[1;33m(\u001b[0m\u001b[0mwave_folder\u001b[0m\u001b[1;33m,\u001b[0m\u001b[0mloc\u001b[0m\u001b[1;33m+\u001b[0m\u001b[1;34m'_Metadata_.csv'\u001b[0m\u001b[1;33m)\u001b[0m\u001b[1;33m)\u001b[0m\u001b[1;33m\u001b[0m\u001b[1;33m\u001b[0m\u001b[0m\n\u001b[0m\u001b[0;32m      2\u001b[0m \u001b[0mmetadata\u001b[0m\u001b[1;33m\u001b[0m\u001b[1;33m\u001b[0m\u001b[0m\n\u001b[0;32m      3\u001b[0m \u001b[0mdata\u001b[0m\u001b[1;33m.\u001b[0m\u001b[0mto_csv\u001b[0m\u001b[1;33m(\u001b[0m\u001b[0mfilename\u001b[0m\u001b[1;33m,\u001b[0m\u001b[0mindex\u001b[0m\u001b[1;33m=\u001b[0m\u001b[1;32mTrue\u001b[0m\u001b[1;33m)\u001b[0m\u001b[1;33m\u001b[0m\u001b[1;33m\u001b[0m\u001b[0m\n",
      "\u001b[1;31mNameError\u001b[0m: name 'os' is not defined"
     ]
    }
   ],
   "source": [
    "filename = os.path.abspath(os.path.join(wave_folder,loc+'_Metadata_.csv'))\n",
    "metadata\n",
    "data.to_csv(filename,index=True)"
   ]
  },
  {
   "cell_type": "code",
   "execution_count": 3,
   "id": "0ac9b962",
   "metadata": {},
   "outputs": [
    {
     "data": {
      "text/html": [
       "<div>\n",
       "<style scoped>\n",
       "    .dataframe tbody tr th:only-of-type {\n",
       "        vertical-align: middle;\n",
       "    }\n",
       "\n",
       "    .dataframe tbody tr th {\n",
       "        vertical-align: top;\n",
       "    }\n",
       "\n",
       "    .dataframe thead th {\n",
       "        text-align: right;\n",
       "    }\n",
       "</style>\n",
       "<table border=\"1\" class=\"dataframe\">\n",
       "  <thead>\n",
       "    <tr style=\"text-align: right;\">\n",
       "      <th></th>\n",
       "      <th>578838</th>\n",
       "    </tr>\n",
       "    <tr>\n",
       "      <th>time_index</th>\n",
       "      <th></th>\n",
       "    </tr>\n",
       "  </thead>\n",
       "  <tbody>\n",
       "    <tr>\n",
       "      <th>1990-01-01 00:00:00+00:00</th>\n",
       "      <td>251.25</td>\n",
       "    </tr>\n",
       "    <tr>\n",
       "      <th>1990-01-01 03:00:00+00:00</th>\n",
       "      <td>251.25</td>\n",
       "    </tr>\n",
       "    <tr>\n",
       "      <th>1990-01-01 06:00:00+00:00</th>\n",
       "      <td>251.25</td>\n",
       "    </tr>\n",
       "    <tr>\n",
       "      <th>1990-01-01 09:00:00+00:00</th>\n",
       "      <td>251.25</td>\n",
       "    </tr>\n",
       "    <tr>\n",
       "      <th>1990-01-01 12:00:00+00:00</th>\n",
       "      <td>243.75</td>\n",
       "    </tr>\n",
       "    <tr>\n",
       "      <th>...</th>\n",
       "      <td>...</td>\n",
       "    </tr>\n",
       "    <tr>\n",
       "      <th>1990-12-31 09:00:00+00:00</th>\n",
       "      <td>311.25</td>\n",
       "    </tr>\n",
       "    <tr>\n",
       "      <th>1990-12-31 12:00:00+00:00</th>\n",
       "      <td>311.25</td>\n",
       "    </tr>\n",
       "    <tr>\n",
       "      <th>1990-12-31 15:00:00+00:00</th>\n",
       "      <td>311.25</td>\n",
       "    </tr>\n",
       "    <tr>\n",
       "      <th>1990-12-31 18:00:00+00:00</th>\n",
       "      <td>311.25</td>\n",
       "    </tr>\n",
       "    <tr>\n",
       "      <th>1990-12-31 21:00:00+00:00</th>\n",
       "      <td>318.75</td>\n",
       "    </tr>\n",
       "  </tbody>\n",
       "</table>\n",
       "<p>2920 rows × 1 columns</p>\n",
       "</div>"
      ],
      "text/plain": [
       "                           578838\n",
       "time_index                       \n",
       "1990-01-01 00:00:00+00:00  251.25\n",
       "1990-01-01 03:00:00+00:00  251.25\n",
       "1990-01-01 06:00:00+00:00  251.25\n",
       "1990-01-01 09:00:00+00:00  251.25\n",
       "1990-01-01 12:00:00+00:00  243.75\n",
       "...                           ...\n",
       "1990-12-31 09:00:00+00:00  311.25\n",
       "1990-12-31 12:00:00+00:00  311.25\n",
       "1990-12-31 15:00:00+00:00  311.25\n",
       "1990-12-31 18:00:00+00:00  311.25\n",
       "1990-12-31 21:00:00+00:00  318.75\n",
       "\n",
       "[2920 rows x 1 columns]"
      ]
     },
     "execution_count": 3,
     "metadata": {},
     "output_type": "execute_result"
    }
   ],
   "source": [
    "wave_file = '/nrel/US_wave/Hawaii/Hawaii_wave_1990.h5'\n",
    "with WaveX(wave_file, hsds=True) as f:\n",
    "    resource_test = f.get_lat_lon_df('maximum_energy_direction',lat_lon)\n",
    "    \n",
    "resource_test"
   ]
  },
  {
   "cell_type": "code",
   "execution_count": null,
   "id": "df466472",
   "metadata": {},
   "outputs": [],
   "source": []
  }
 ],
 "metadata": {
  "kernelspec": {
   "display_name": "Python 3 (ipykernel)",
   "language": "python",
   "name": "python3"
  },
  "language_info": {
   "codemirror_mode": {
    "name": "ipython",
    "version": 3
   },
   "file_extension": ".py",
   "mimetype": "text/x-python",
   "name": "python",
   "nbconvert_exporter": "python",
   "pygments_lexer": "ipython3",
   "version": "3.9.7"
  }
 },
 "nbformat": 4,
 "nbformat_minor": 5
}
